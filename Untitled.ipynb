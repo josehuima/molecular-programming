{
 "cells": [
  {
   "cell_type": "code",
   "execution_count": 1,
   "id": "c50d079d-6cca-4bbb-89ba-ee4e35d7336e",
   "metadata": {},
   "outputs": [
    {
     "data": {
      "application/vnd.jupyter.widget-view+json": {
       "model_id": "1028fd7b243a4827974c8969540dee9a",
       "version_major": 2,
       "version_minor": 0
      },
      "text/plain": []
     },
     "metadata": {},
     "output_type": "display_data"
    },
    {
     "data": {
      "application/vnd.jupyter.widget-view+json": {
       "model_id": "58d1f76879c54642b7050b63c2776245",
       "version_major": 2,
       "version_minor": 0
      },
      "text/plain": [
       "NGLWidget(max_frame=199)"
      ]
     },
     "metadata": {},
     "output_type": "display_data"
    },
    {
     "data": {
      "application/vnd.jupyter.widget-view+json": {
       "model_id": "8b8e27e4f2dd40cebfc113421788005a",
       "version_major": 2,
       "version_minor": 0
      },
      "text/plain": [
       "Tab(children=(Box(children=(Box(children=(Box(children=(Label(value='step'), IntSlider(value=1, min=-100)), la…"
      ]
     },
     "metadata": {},
     "output_type": "display_data"
    },
    {
     "data": {
      "application/vnd.jupyter.widget-view+json": {
       "model_id": "727269f4054141129fb911bca1dfdc6a",
       "version_major": 2,
       "version_minor": 0
      },
      "text/plain": [
       "Tab(children=(Box(children=(Box(children=(Box(children=(Label(value='step'), IntSlider(value=1, min=-100))),))…"
      ]
     },
     "metadata": {},
     "output_type": "display_data"
    }
   ],
   "source": [
    "import MDAnalysis as md\n",
    "import nglview as ng\n",
    "from sys import stdout\n",
    "from openmm.app import *\n",
    "import ipywidgets as widgets\n",
    "from IPython.display import display\n",
    "import warnings\n",
    "\n",
    "# Suprimir o aviso específico de depreciação do DCDReader\n",
    "warnings.filterwarnings(\"ignore\", category=DeprecationWarning, message=\"DCDReader currently makes independent timesteps\")\n",
    "\n",
    "# Carregar o arquivo PDB\n",
    "pdb_file_path = 'data/polyGV.pdb'\n",
    "pdb3_file = PDBFile(pdb_file_path)\n",
    "\n",
    "### 6. Visualização\n",
    "sys = md.Universe(pdb_file_path, 'data/polyALA_traj.dcd')\n",
    "view = ng.show_mdanalysis(sys, gui=True)\n",
    "\n",
    "# Exibir o widget de visualização\n",
    "display(view)\n",
    "\n",
    "# Configuração do Tab e Slider do ipywidgets\n",
    "tab = widgets.Tab(children=[\n",
    "    widgets.Box(children=[\n",
    "        widgets.Box(children=[\n",
    "            widgets.Box(children=[\n",
    "                widgets.Label(value='step'),\n",
    "                widgets.IntSlider(value=1, min=-100)\n",
    "            ])\n",
    "        ])\n",
    "    ])\n",
    "])\n",
    "\n",
    "display(tab)\n"
   ]
  },
  {
   "cell_type": "code",
   "execution_count": null,
   "id": "69e4d19a-0f25-42df-a896-9d9e3e3b8af3",
   "metadata": {},
   "outputs": [],
   "source": []
  }
 ],
 "metadata": {
  "kernelspec": {
   "display_name": "Python 3 (ipykernel)",
   "language": "python",
   "name": "python3"
  },
  "language_info": {
   "codemirror_mode": {
    "name": "ipython",
    "version": 3
   },
   "file_extension": ".py",
   "mimetype": "text/x-python",
   "name": "python",
   "nbconvert_exporter": "python",
   "pygments_lexer": "ipython3",
   "version": "3.12.3"
  }
 },
 "nbformat": 4,
 "nbformat_minor": 5
}
